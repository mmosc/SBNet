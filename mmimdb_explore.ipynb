{
 "cells": [
  {
   "cell_type": "code",
   "execution_count": 1,
   "id": "initial_id",
   "metadata": {
    "ExecuteTime": {
     "end_time": "2024-08-02T09:04:02.473773Z",
     "start_time": "2024-08-02T09:04:01.324911Z"
    }
   },
   "outputs": [],
   "source": [
    "from __future__ import division\n",
    "from __future__ import print_function\n",
    "\n",
    "import argparse\n",
    "import os\n",
    "os.environ['CUDA_VISIBLE_DEVICES'] = \"1\"\n",
    "\n",
    "import numpy as np\n",
    "import torch\n",
    "import torch.optim as optim\n",
    "import torch.utils.data\n",
    "from torch.autograd import Variable\n",
    "import torch.backends.cudnn as cudnn\n",
    "import sys\n",
    "sys.path.append(\"/home/marta/jku/SBNet/ssnet_fop\")\n",
    "\n",
    "import pandas as pd\n",
    "from scipy import random\n",
    "from sklearn import preprocessing\n",
    "from sklearn.metrics import precision_score, recall_score, f1_score\n",
    "# import matplotlib.pyplot as plt\n",
    "import torch.nn.functional as F\n",
    "import torch.nn as nn\n",
    "\n",
    "from tqdm import tqdm\n",
    "from retrieval_model import FOP\n"
   ]
  },
  {
   "cell_type": "code",
   "execution_count": 2,
   "id": "4184629c9d49e195",
   "metadata": {
    "ExecuteTime": {
     "end_time": "2024-08-02T09:04:12.156164Z",
     "start_time": "2024-08-02T09:04:12.122062Z"
    }
   },
   "outputs": [
    {
     "data": {
      "text/plain": [
       "True"
      ]
     },
     "execution_count": 2,
     "metadata": {},
     "output_type": "execute_result"
    }
   ],
   "source": [
    "torch.cuda.is_available()"
   ]
  },
  {
   "cell_type": "code",
   "execution_count": 3,
   "id": "df4d5a2c",
   "metadata": {
    "ExecuteTime": {
     "end_time": "2024-08-02T09:05:19.851420Z",
     "start_time": "2024-08-02T09:05:19.847431Z"
    }
   },
   "outputs": [],
   "source": [
    "# data_folder = '/home/marta/jku/LLaVA/mmimdb'\n",
    "data_folder = '/share/hel/datasets/mmimdb'"
   ]
  },
  {
   "cell_type": "code",
   "execution_count": 4,
   "id": "fd8d2c98",
   "metadata": {
    "ExecuteTime": {
     "end_time": "2024-08-02T09:05:34.466361Z",
     "start_time": "2024-08-02T09:05:34.456488Z"
    }
   },
   "outputs": [],
   "source": [
    "texts_folder = os.path.join(data_folder, 'llava_encoded_texts')\n",
    "\n",
    "train_text_df = os.path.join(texts_folder, 'llava_plot_first_latent_train.csv')\n",
    "test_text_df = os.path.join(texts_folder, 'llava_plot_first_latent_test.csv')\n",
    "\n",
    "images_folder = os.path.join(data_folder, 'llava_encoded_images')\n",
    "\n",
    "train_image_df = os.path.join(images_folder, 'llava_images_latent_train.csv')\n",
    "test_image_df = os.path.join(images_folder, 'llava_images_latent_test.csv')\n",
    "\n",
    "labels = ['action', 'adult', 'adventure', 'animation', 'biography', 'comedy',\n",
    "       'crime', 'documentary', 'drama', 'family', 'fantasy', 'film-noir',\n",
    "       'history', 'horror', 'music', 'musical', 'mystery', 'news',\n",
    "       'reality-tv', 'romance', 'sci-fi', 'short', 'sport', 'talk-show',\n",
    "       'thriller', 'war', 'western']"
   ]
  },
  {
   "cell_type": "code",
   "execution_count": 5,
   "id": "bf6e6bbe31f62c6d",
   "metadata": {
    "ExecuteTime": {
     "end_time": "2024-08-02T09:05:39.032377Z",
     "start_time": "2024-08-02T09:05:38.941115Z"
    }
   },
   "outputs": [],
   "source": [
    "def read_data(FLAGS):\n",
    "\n",
    "    print('Split Type: %s'%(FLAGS.split_type))\n",
    "\n",
    "    if FLAGS.split_type == 'text_only':\n",
    "        print('Reading Text Train')\n",
    "        train_file_text = train_text_df\n",
    "        train_data = pd.read_csv(train_file_text, index_col='item_id')\n",
    "        train_label = train_data[labels]\n",
    "        train_data = train_data.drop(columns=labels)\n",
    "        train_data = np.asarray(train_data)\n",
    "        # Shuffle the data also if only one modality is used\n",
    "        # combined = list(zip(train_data, train_label))\n",
    "        # random.shuffle(combined)\n",
    "        # train_data, train_label = zip(*combined)\n",
    "\n",
    "        return train_data, train_label\n",
    "\n",
    "    elif FLAGS.split_type == 'image_only':\n",
    "        print('Reading Image Train')\n",
    "        train_file_image = train_image_df\n",
    "        train_data = pd.read_csv(train_file_image, index_col='item_id')\n",
    "        train_label = train_data[labels]\n",
    "        train_data = train_data.drop(columns=labels)\n",
    "        train_data = np.asarray(train_data)\n",
    "        # Shuffle the data also if only one modality is used\n",
    "        # combined = list(zip(train_data, train_label))\n",
    "        # random.shuffle(combined)\n",
    "        # train_data, train_label = zip(*combined)\n",
    "\n",
    "        return train_data, train_label\n",
    "\n",
    "def get_batch(batch_index, batch_size, labels, f_lst):\n",
    "    start_ind = batch_index * batch_size\n",
    "    end_ind = (batch_index + 1) * batch_size\n",
    "    return np.asarray(f_lst[start_ind:end_ind]), np.asarray(labels[start_ind:end_ind])\n",
    "\n",
    "def init_weights(m):\n",
    "    if type(m) == nn.Linear:\n",
    "        torch.nn.init.xavier_uniform(m.weight)\n",
    "        m.bias.data.fill_(0.01)\n",
    "\n",
    "def main(train_data, train_label):\n",
    "    \"\"\"\n",
    "    train_data.shape = (num_train_instances, embedding_size)\n",
    "    train_label.shape = (num_train_instances, num_labels)\n",
    "    \"\"\"\n",
    "    n_class = train_label.shape[1]\n",
    "    train_label_np = np.asarray(train_label)\n",
    "    model = FOP(FLAGS, train_data.shape[1], n_class)\n",
    "    model.apply(init_weights)\n",
    "    \n",
    "    # ce_loss = nn.CrossEntropyLoss().cuda()\n",
    "    bce_logits_loss = nn.BCEWithLogitsLoss().cuda()\n",
    "    \n",
    "    if FLAGS.cuda:\n",
    "        model.cuda()\n",
    "        # ce_loss.cuda()    \n",
    "        bce_logits_loss.cuda()\n",
    "        cudnn.benchmark = True\n",
    "    \n",
    "    optimizer = optim.Adam(model.parameters(), lr=FLAGS.lr, weight_decay=0.01)\n",
    "\n",
    "    n_parameters = sum([p.data.nelement() for p in model.parameters()])\n",
    "    print('  + Number of params: {}'.format(n_parameters))\n",
    "    \n",
    "    \n",
    "    epoch = 1\n",
    "    # todo check: why len and not train_label[0] ? \n",
    "    print(len(train_label), FLAGS.batch_size)\n",
    "    num_of_batches = (len(train_label) // FLAGS.batch_size)\n",
    "    loss_plot = []\n",
    "    train_precision_list = []\n",
    "    train_recall_list = []\n",
    "    train_f1_list = []\n",
    "    \n",
    "    loss_per_epoch = 0.\n",
    "    txt_dir = 'output'\n",
    "    save_dir = 'fc2_%s_%s'%(FLAGS.split_type, FLAGS.save_dir)\n",
    "    txt = '%s/bce_%03d.txt'%(txt_dir, FLAGS.max_num_epoch)\n",
    "    \n",
    "    if not os.path.exists(save_dir):\n",
    "        os.makedirs(save_dir)\n",
    "    \n",
    "    if not os.path.exists(txt_dir):\n",
    "        os.makedirs(txt_dir)\n",
    "    \n",
    "    with open(txt,'w+') as f:\n",
    "        f.write('EPOCH\\tLOSS\\ttrain precision\\ttrain recall\\ttrain f1\\n')\n",
    "    \n",
    "    save_best = 'best_%s'%(save_dir)\n",
    "    \n",
    "    if not os.path.exists(save_best):\n",
    "        os.mkdir(save_best)\n",
    "    with open(txt,'a+') as f:\n",
    "        # performing early stopping on f1\n",
    "        max_f1 = 0.\n",
    "        while (epoch < FLAGS.max_num_epoch):\n",
    "            print('%s\\tEpoch %03d'%(FLAGS.split_type, epoch))\n",
    "            for idx in tqdm(range(num_of_batches)):\n",
    "                train_batch, batch_labels = get_batch(idx, FLAGS.batch_size, train_label, train_data)\n",
    "                # voice_feats, _ = get_batch(idx, FLAGS.batch_size, train_label, voice_train)\n",
    "                loss_tmp = train_on_batch(train_batch, batch_labels, model, optimizer, bce_logits_loss)\n",
    "                loss_per_epoch += loss_tmp\n",
    "            \n",
    "            # todo check: should we really divide by the number of batches? this leads to an incorrect loss \n",
    "            #  if the last batch is smaller.\n",
    "            loss_per_epoch /= num_of_batches\n",
    "            \n",
    "            loss_plot.append(loss_per_epoch)\n",
    "#                 print(train_data.shape, train_label.shape)\n",
    "            precision, recall, f1 = model_eval(train_data, train_label_np, model)\n",
    "            train_precision_list.append(precision)\n",
    "            train_recall_list.append(recall)\n",
    "            train_f1_list.append(f1)\n",
    "            \n",
    "            save_checkpoint({\n",
    "               'epoch': epoch,\n",
    "               'state_dict': model.state_dict()}, save_dir, 'checkpoint_%04d_%0.3f.pth.tar'%(epoch, f1*100))\n",
    "\n",
    "            # print('==> Epoch: %d/%d Loss: %0.2f Alpha:%0.2f, Min_train_f1: %0.2f'%(epoch, FLAGS.max_num_epoch, loss_per_epoch, alpha, min(train_f1_list)))\n",
    "            if f1 > max_f1:\n",
    "                max_f1 = f1\n",
    "                save_checkpoint({\n",
    "                'epoch': epoch,\n",
    "                'state_dict': model.state_dict()}, save_best, 'checkpoint.pth.tar')\n",
    "            f.write('%04d\\t%0.4f\\t%0.2f\\t%0.2f\\t%0.2f\\n'%(epoch, loss_per_epoch, precision, recall, f1))\n",
    "            loss_per_epoch = 0.\n",
    "            epoch += 1\n",
    "    \n",
    "    return loss_plot, train_f1_list\n",
    "\n",
    "\n",
    "def model_eval(train_batch, labels, model):\n",
    "    model.eval()\n",
    "    with torch.no_grad():\n",
    "        train_batch = torch.from_numpy(train_batch).float()\n",
    "        \n",
    "        if FLAGS.cuda:\n",
    "            train_batch = train_batch.cuda()\n",
    "        train_batch = Variable(train_batch)\n",
    "        comb = model.train_forward(train_batch)\n",
    "        \n",
    "        predictions = torch.sigmoid(comb[1]).cpu().numpy()\n",
    "        predictions = (predictions > 0.5).astype(int)\n",
    "        \n",
    "        precision = precision_score(labels, predictions, average='samples')\n",
    "        recall = recall_score(labels, predictions, average='samples')\n",
    "        f1 = f1_score(labels, predictions, average='samples')\n",
    "        \n",
    "        return precision, recall, f1\n",
    "    \n",
    "    \n",
    "def train_on_batch(train_batch, labels, model, optimizer, bce_logits_loss):   \n",
    "    \n",
    "#     optimizer.zero_grad()\n",
    "    \n",
    "    average_loss = RunningAverage()\n",
    "    model.train()\n",
    "    train_batch = torch.from_numpy(train_batch).float()\n",
    "    labels = torch.from_numpy(labels).float()\n",
    "    \n",
    "    if FLAGS.cuda:\n",
    "        train_batch, labels = train_batch.cuda(), labels.cuda()\n",
    "\n",
    "    train_batch, labels = Variable(train_batch), Variable(labels)\n",
    "    features, logits = model.train_forward(train_batch)\n",
    "    \n",
    "    loss = bce_logits_loss(logits, labels) \n",
    "    loss.backward()\n",
    "    optimizer.step()  \n",
    "    \n",
    "    optimizer.zero_grad()\n",
    "    \n",
    "    average_loss.update(loss.item())\n",
    "    return average_loss.avg()\n",
    "\n",
    "class RunningAverage(object):\n",
    "    def __init__(self):\n",
    "        self.value_sum = 0.\n",
    "        self.num_items = 0. \n",
    "\n",
    "    def update(self, val):\n",
    "        self.value_sum += val \n",
    "        self.num_items += 1\n",
    "\n",
    "    def avg(self):\n",
    "        average = 0.\n",
    "        if self.num_items > 0:\n",
    "            average = self.value_sum / self.num_items\n",
    "\n",
    "        return average\n",
    "\n",
    "def save_checkpoint(state, directory, filename):\n",
    "    filename = os.path.join(directory, filename)\n",
    "    torch.save(state, filename)\n",
    "    "
   ]
  },
  {
   "cell_type": "code",
   "execution_count": 6,
   "id": "7d9e30cf6e04ffbc",
   "metadata": {
    "ExecuteTime": {
     "end_time": "2024-08-02T09:05:41.512624Z",
     "start_time": "2024-08-02T09:05:41.508173Z"
    }
   },
   "outputs": [],
   "source": [
    "global FLAGS"
   ]
  },
  {
   "cell_type": "code",
   "execution_count": 7,
   "id": "d40ec09aa487851f",
   "metadata": {
    "ExecuteTime": {
     "end_time": "2024-08-02T09:05:42.437031Z",
     "start_time": "2024-08-02T09:05:42.421341Z"
    }
   },
   "outputs": [
    {
     "data": {
      "text/plain": [
       "_StoreAction(option_strings=['--split_type'], dest='split_type', nargs=None, const=None, default='text_only', type=<class 'str'>, choices=None, help='split_type', metavar=None)"
      ]
     },
     "execution_count": 7,
     "metadata": {},
     "output_type": "execute_result"
    }
   ],
   "source": [
    "parser = argparse.ArgumentParser()\n",
    "parser.add_argument('--seed', type=int, default=1, metavar='S', help='Random Seed')\n",
    "parser.add_argument('--cuda', action='store_true', default=True, help='CUDA Training')\n",
    "parser.add_argument('--save_dir', type=str, default='model', help='Directory for saving checkpoints.')\n",
    "parser.add_argument('--lr', type=float, default=1e-5, metavar='LR',\n",
    "                    help='learning rate (default: 1e-5)') \n",
    "parser.add_argument('--batch_size', type=int, default=128, help='Batch size for training.')\n",
    "parser.add_argument('--max_num_epoch', type=int, default=50, help='Max number of epochs to train, number')\n",
    "parser.add_argument('--dim_embed', type=int, default=256,\n",
    "                    help='Embedding Size')\n",
    "parser.add_argument('--split_type', type=str, default='text_only', help='split_type')"
   ]
  },
  {
   "cell_type": "code",
   "execution_count": 8,
   "id": "47028af40cb5fd17",
   "metadata": {
    "ExecuteTime": {
     "end_time": "2024-08-02T09:05:48.331683Z",
     "start_time": "2024-08-02T09:05:48.325663Z"
    }
   },
   "outputs": [],
   "source": [
    "FLAGS, unparsed = parser.parse_known_args()"
   ]
  },
  {
   "cell_type": "code",
   "execution_count": 9,
   "id": "e84b804a85f8343b",
   "metadata": {
    "ExecuteTime": {
     "end_time": "2024-08-02T09:06:26.430376Z",
     "start_time": "2024-08-02T09:05:50.172355Z"
    }
   },
   "outputs": [
    {
     "name": "stdout",
     "output_type": "stream",
     "text": [
      "Split Type: text_only\n",
      "Reading Text Train\n"
     ]
    }
   ],
   "source": [
    "train_data, train_label = read_data(FLAGS)"
   ]
  },
  {
   "cell_type": "code",
   "execution_count": 10,
   "id": "fd90c488685380b6",
   "metadata": {
    "ExecuteTime": {
     "end_time": "2024-08-02T09:06:26.438198Z",
     "start_time": "2024-08-02T09:06:26.432682Z"
    }
   },
   "outputs": [
    {
     "name": "stdout",
     "output_type": "stream",
     "text": [
      "Split Type: text_only\n"
     ]
    }
   ],
   "source": [
    "print('Split Type: %s'%(FLAGS.split_type))"
   ]
  },
  {
   "cell_type": "code",
   "execution_count": 11,
   "id": "fec7e50cb0caa13c",
   "metadata": {
    "ExecuteTime": {
     "end_time": "2024-07-27T16:22:53.604388Z",
     "start_time": "2024-07-27T16:22:47.426642Z"
    },
    "scrolled": false
   },
   "outputs": [
    {
     "name": "stderr",
     "output_type": "stream",
     "text": [
      "/home/marta/miniconda3/envs/sbnet/lib/python3.6/site-packages/ipykernel_launcher.py:40: UserWarning: nn.init.xavier_uniform is now deprecated in favor of nn.init.xavier_uniform_.\n"
     ]
    },
    {
     "name": "stdout",
     "output_type": "stream",
     "text": [
      "  + Number of params: 1909019\n",
      "15552 128\n",
      "text_only\tEpoch 001\n"
     ]
    },
    {
     "name": "stderr",
     "output_type": "stream",
     "text": [
      "100%|██████████| 121/121 [00:00<00:00, 166.37it/s]\n"
     ]
    },
    {
     "name": "stdout",
     "output_type": "stream",
     "text": [
      "text_only\tEpoch 002\n"
     ]
    },
    {
     "name": "stderr",
     "output_type": "stream",
     "text": [
      "100%|██████████| 121/121 [00:00<00:00, 163.89it/s]\n"
     ]
    },
    {
     "name": "stdout",
     "output_type": "stream",
     "text": [
      "text_only\tEpoch 003\n"
     ]
    },
    {
     "name": "stderr",
     "output_type": "stream",
     "text": [
      "100%|██████████| 121/121 [00:00<00:00, 163.31it/s]\n"
     ]
    },
    {
     "name": "stdout",
     "output_type": "stream",
     "text": [
      "text_only\tEpoch 004\n"
     ]
    },
    {
     "name": "stderr",
     "output_type": "stream",
     "text": [
      "100%|██████████| 121/121 [00:00<00:00, 171.97it/s]\n"
     ]
    },
    {
     "name": "stdout",
     "output_type": "stream",
     "text": [
      "text_only\tEpoch 005\n"
     ]
    },
    {
     "name": "stderr",
     "output_type": "stream",
     "text": [
      "100%|██████████| 121/121 [00:00<00:00, 164.35it/s]\n"
     ]
    },
    {
     "name": "stdout",
     "output_type": "stream",
     "text": [
      "text_only\tEpoch 006\n"
     ]
    },
    {
     "name": "stderr",
     "output_type": "stream",
     "text": [
      "100%|██████████| 121/121 [00:00<00:00, 172.47it/s]\n"
     ]
    },
    {
     "name": "stdout",
     "output_type": "stream",
     "text": [
      "text_only\tEpoch 007\n"
     ]
    },
    {
     "name": "stderr",
     "output_type": "stream",
     "text": [
      "100%|██████████| 121/121 [00:00<00:00, 174.43it/s]\n"
     ]
    },
    {
     "name": "stdout",
     "output_type": "stream",
     "text": [
      "text_only\tEpoch 008\n"
     ]
    },
    {
     "name": "stderr",
     "output_type": "stream",
     "text": [
      "100%|██████████| 121/121 [00:00<00:00, 175.11it/s]\n"
     ]
    },
    {
     "name": "stdout",
     "output_type": "stream",
     "text": [
      "text_only\tEpoch 009\n"
     ]
    },
    {
     "name": "stderr",
     "output_type": "stream",
     "text": [
      "100%|██████████| 121/121 [00:00<00:00, 176.47it/s]\n"
     ]
    },
    {
     "name": "stdout",
     "output_type": "stream",
     "text": [
      "text_only\tEpoch 010\n"
     ]
    },
    {
     "name": "stderr",
     "output_type": "stream",
     "text": [
      "100%|██████████| 121/121 [00:00<00:00, 163.24it/s]\n"
     ]
    },
    {
     "name": "stdout",
     "output_type": "stream",
     "text": [
      "text_only\tEpoch 011\n"
     ]
    },
    {
     "name": "stderr",
     "output_type": "stream",
     "text": [
      "100%|██████████| 121/121 [00:00<00:00, 209.63it/s]\n"
     ]
    },
    {
     "name": "stdout",
     "output_type": "stream",
     "text": [
      "text_only\tEpoch 012\n"
     ]
    },
    {
     "name": "stderr",
     "output_type": "stream",
     "text": [
      "100%|██████████| 121/121 [00:00<00:00, 207.46it/s]\n"
     ]
    },
    {
     "name": "stdout",
     "output_type": "stream",
     "text": [
      "text_only\tEpoch 013\n"
     ]
    },
    {
     "name": "stderr",
     "output_type": "stream",
     "text": [
      "100%|██████████| 121/121 [00:00<00:00, 208.35it/s]\n"
     ]
    },
    {
     "name": "stdout",
     "output_type": "stream",
     "text": [
      "text_only\tEpoch 014\n"
     ]
    },
    {
     "name": "stderr",
     "output_type": "stream",
     "text": [
      "100%|██████████| 121/121 [00:00<00:00, 209.74it/s]\n"
     ]
    },
    {
     "name": "stdout",
     "output_type": "stream",
     "text": [
      "text_only\tEpoch 015\n"
     ]
    },
    {
     "name": "stderr",
     "output_type": "stream",
     "text": [
      "100%|██████████| 121/121 [00:00<00:00, 208.09it/s]\n",
      "/home/marta/miniconda3/envs/sbnet/lib/python3.6/site-packages/sklearn/metrics/_classification.py:1248: UndefinedMetricWarning: Precision is ill-defined and being set to 0.0 in samples with no predicted labels. Use `zero_division` parameter to control this behavior.\n",
      "  _warn_prf(average, modifier, msg_start, len(result))\n"
     ]
    },
    {
     "name": "stdout",
     "output_type": "stream",
     "text": [
      "text_only\tEpoch 016\n"
     ]
    },
    {
     "name": "stderr",
     "output_type": "stream",
     "text": [
      "100%|██████████| 121/121 [00:00<00:00, 169.78it/s]\n",
      "/home/marta/miniconda3/envs/sbnet/lib/python3.6/site-packages/sklearn/metrics/_classification.py:1248: UndefinedMetricWarning: Precision is ill-defined and being set to 0.0 in samples with no predicted labels. Use `zero_division` parameter to control this behavior.\n",
      "  _warn_prf(average, modifier, msg_start, len(result))\n"
     ]
    },
    {
     "name": "stdout",
     "output_type": "stream",
     "text": [
      "text_only\tEpoch 017\n"
     ]
    },
    {
     "name": "stderr",
     "output_type": "stream",
     "text": [
      "100%|██████████| 121/121 [00:00<00:00, 173.24it/s]\n",
      "/home/marta/miniconda3/envs/sbnet/lib/python3.6/site-packages/sklearn/metrics/_classification.py:1248: UndefinedMetricWarning: Precision is ill-defined and being set to 0.0 in samples with no predicted labels. Use `zero_division` parameter to control this behavior.\n",
      "  _warn_prf(average, modifier, msg_start, len(result))\n"
     ]
    },
    {
     "name": "stdout",
     "output_type": "stream",
     "text": [
      "text_only\tEpoch 018\n"
     ]
    },
    {
     "name": "stderr",
     "output_type": "stream",
     "text": [
      "100%|██████████| 121/121 [00:00<00:00, 172.85it/s]\n",
      "/home/marta/miniconda3/envs/sbnet/lib/python3.6/site-packages/sklearn/metrics/_classification.py:1248: UndefinedMetricWarning: Precision is ill-defined and being set to 0.0 in samples with no predicted labels. Use `zero_division` parameter to control this behavior.\n",
      "  _warn_prf(average, modifier, msg_start, len(result))\n"
     ]
    },
    {
     "name": "stdout",
     "output_type": "stream",
     "text": [
      "text_only\tEpoch 019\n"
     ]
    },
    {
     "name": "stderr",
     "output_type": "stream",
     "text": [
      "100%|██████████| 121/121 [00:00<00:00, 172.49it/s]\n",
      "/home/marta/miniconda3/envs/sbnet/lib/python3.6/site-packages/sklearn/metrics/_classification.py:1248: UndefinedMetricWarning: Precision is ill-defined and being set to 0.0 in samples with no predicted labels. Use `zero_division` parameter to control this behavior.\n",
      "  _warn_prf(average, modifier, msg_start, len(result))\n"
     ]
    },
    {
     "name": "stdout",
     "output_type": "stream",
     "text": [
      "text_only\tEpoch 020\n"
     ]
    },
    {
     "name": "stderr",
     "output_type": "stream",
     "text": [
      "100%|██████████| 121/121 [00:00<00:00, 164.82it/s]\n",
      "/home/marta/miniconda3/envs/sbnet/lib/python3.6/site-packages/sklearn/metrics/_classification.py:1248: UndefinedMetricWarning: Precision is ill-defined and being set to 0.0 in samples with no predicted labels. Use `zero_division` parameter to control this behavior.\n",
      "  _warn_prf(average, modifier, msg_start, len(result))\n"
     ]
    },
    {
     "name": "stdout",
     "output_type": "stream",
     "text": [
      "text_only\tEpoch 021\n"
     ]
    },
    {
     "name": "stderr",
     "output_type": "stream",
     "text": [
      "100%|██████████| 121/121 [00:00<00:00, 170.28it/s]\n",
      "/home/marta/miniconda3/envs/sbnet/lib/python3.6/site-packages/sklearn/metrics/_classification.py:1248: UndefinedMetricWarning: Precision is ill-defined and being set to 0.0 in samples with no predicted labels. Use `zero_division` parameter to control this behavior.\n",
      "  _warn_prf(average, modifier, msg_start, len(result))\n"
     ]
    },
    {
     "name": "stdout",
     "output_type": "stream",
     "text": [
      "text_only\tEpoch 022\n"
     ]
    },
    {
     "name": "stderr",
     "output_type": "stream",
     "text": [
      "100%|██████████| 121/121 [00:00<00:00, 172.54it/s]\n",
      "/home/marta/miniconda3/envs/sbnet/lib/python3.6/site-packages/sklearn/metrics/_classification.py:1248: UndefinedMetricWarning: Precision is ill-defined and being set to 0.0 in samples with no predicted labels. Use `zero_division` parameter to control this behavior.\n",
      "  _warn_prf(average, modifier, msg_start, len(result))\n"
     ]
    },
    {
     "name": "stdout",
     "output_type": "stream",
     "text": [
      "text_only\tEpoch 023\n"
     ]
    },
    {
     "name": "stderr",
     "output_type": "stream",
     "text": [
      "100%|██████████| 121/121 [00:00<00:00, 170.04it/s]\n",
      "/home/marta/miniconda3/envs/sbnet/lib/python3.6/site-packages/sklearn/metrics/_classification.py:1248: UndefinedMetricWarning: Precision is ill-defined and being set to 0.0 in samples with no predicted labels. Use `zero_division` parameter to control this behavior.\n",
      "  _warn_prf(average, modifier, msg_start, len(result))\n"
     ]
    },
    {
     "name": "stdout",
     "output_type": "stream",
     "text": [
      "text_only\tEpoch 024\n"
     ]
    },
    {
     "name": "stderr",
     "output_type": "stream",
     "text": [
      "100%|██████████| 121/121 [00:00<00:00, 169.06it/s]\n",
      "/home/marta/miniconda3/envs/sbnet/lib/python3.6/site-packages/sklearn/metrics/_classification.py:1248: UndefinedMetricWarning: Precision is ill-defined and being set to 0.0 in samples with no predicted labels. Use `zero_division` parameter to control this behavior.\n",
      "  _warn_prf(average, modifier, msg_start, len(result))\n"
     ]
    },
    {
     "name": "stdout",
     "output_type": "stream",
     "text": [
      "text_only\tEpoch 025\n"
     ]
    },
    {
     "name": "stderr",
     "output_type": "stream",
     "text": [
      "100%|██████████| 121/121 [00:00<00:00, 169.37it/s]\n",
      "/home/marta/miniconda3/envs/sbnet/lib/python3.6/site-packages/sklearn/metrics/_classification.py:1248: UndefinedMetricWarning: Precision is ill-defined and being set to 0.0 in samples with no predicted labels. Use `zero_division` parameter to control this behavior.\n",
      "  _warn_prf(average, modifier, msg_start, len(result))\n"
     ]
    },
    {
     "name": "stdout",
     "output_type": "stream",
     "text": [
      "text_only\tEpoch 026\n"
     ]
    },
    {
     "name": "stderr",
     "output_type": "stream",
     "text": [
      "100%|██████████| 121/121 [00:00<00:00, 171.43it/s]\n",
      "/home/marta/miniconda3/envs/sbnet/lib/python3.6/site-packages/sklearn/metrics/_classification.py:1248: UndefinedMetricWarning: Precision is ill-defined and being set to 0.0 in samples with no predicted labels. Use `zero_division` parameter to control this behavior.\n",
      "  _warn_prf(average, modifier, msg_start, len(result))\n"
     ]
    },
    {
     "name": "stdout",
     "output_type": "stream",
     "text": [
      "text_only\tEpoch 027\n"
     ]
    },
    {
     "name": "stderr",
     "output_type": "stream",
     "text": [
      "100%|██████████| 121/121 [00:00<00:00, 173.43it/s]\n",
      "/home/marta/miniconda3/envs/sbnet/lib/python3.6/site-packages/sklearn/metrics/_classification.py:1248: UndefinedMetricWarning: Precision is ill-defined and being set to 0.0 in samples with no predicted labels. Use `zero_division` parameter to control this behavior.\n",
      "  _warn_prf(average, modifier, msg_start, len(result))\n"
     ]
    },
    {
     "name": "stdout",
     "output_type": "stream",
     "text": [
      "text_only\tEpoch 028\n"
     ]
    },
    {
     "name": "stderr",
     "output_type": "stream",
     "text": [
      "100%|██████████| 121/121 [00:00<00:00, 171.60it/s]\n",
      "/home/marta/miniconda3/envs/sbnet/lib/python3.6/site-packages/sklearn/metrics/_classification.py:1248: UndefinedMetricWarning: Precision is ill-defined and being set to 0.0 in samples with no predicted labels. Use `zero_division` parameter to control this behavior.\n",
      "  _warn_prf(average, modifier, msg_start, len(result))\n"
     ]
    },
    {
     "name": "stdout",
     "output_type": "stream",
     "text": [
      "text_only\tEpoch 029\n"
     ]
    },
    {
     "name": "stderr",
     "output_type": "stream",
     "text": [
      "100%|██████████| 121/121 [00:00<00:00, 162.43it/s]\n",
      "/home/marta/miniconda3/envs/sbnet/lib/python3.6/site-packages/sklearn/metrics/_classification.py:1248: UndefinedMetricWarning: Precision is ill-defined and being set to 0.0 in samples with no predicted labels. Use `zero_division` parameter to control this behavior.\n",
      "  _warn_prf(average, modifier, msg_start, len(result))\n"
     ]
    },
    {
     "name": "stdout",
     "output_type": "stream",
     "text": [
      "text_only\tEpoch 030\n"
     ]
    },
    {
     "name": "stderr",
     "output_type": "stream",
     "text": [
      "100%|██████████| 121/121 [00:00<00:00, 166.17it/s]\n",
      "/home/marta/miniconda3/envs/sbnet/lib/python3.6/site-packages/sklearn/metrics/_classification.py:1248: UndefinedMetricWarning: Precision is ill-defined and being set to 0.0 in samples with no predicted labels. Use `zero_division` parameter to control this behavior.\n",
      "  _warn_prf(average, modifier, msg_start, len(result))\n"
     ]
    },
    {
     "name": "stdout",
     "output_type": "stream",
     "text": [
      "text_only\tEpoch 031\n"
     ]
    },
    {
     "name": "stderr",
     "output_type": "stream",
     "text": [
      "100%|██████████| 121/121 [00:00<00:00, 174.54it/s]\n",
      "/home/marta/miniconda3/envs/sbnet/lib/python3.6/site-packages/sklearn/metrics/_classification.py:1248: UndefinedMetricWarning: Precision is ill-defined and being set to 0.0 in samples with no predicted labels. Use `zero_division` parameter to control this behavior.\n",
      "  _warn_prf(average, modifier, msg_start, len(result))\n"
     ]
    },
    {
     "name": "stdout",
     "output_type": "stream",
     "text": [
      "text_only\tEpoch 032\n"
     ]
    },
    {
     "name": "stderr",
     "output_type": "stream",
     "text": [
      "100%|██████████| 121/121 [00:00<00:00, 176.70it/s]\n",
      "/home/marta/miniconda3/envs/sbnet/lib/python3.6/site-packages/sklearn/metrics/_classification.py:1248: UndefinedMetricWarning: Precision is ill-defined and being set to 0.0 in samples with no predicted labels. Use `zero_division` parameter to control this behavior.\n",
      "  _warn_prf(average, modifier, msg_start, len(result))\n"
     ]
    },
    {
     "name": "stdout",
     "output_type": "stream",
     "text": [
      "text_only\tEpoch 033\n"
     ]
    },
    {
     "name": "stderr",
     "output_type": "stream",
     "text": [
      "100%|██████████| 121/121 [00:00<00:00, 177.83it/s]\n",
      "/home/marta/miniconda3/envs/sbnet/lib/python3.6/site-packages/sklearn/metrics/_classification.py:1248: UndefinedMetricWarning: Precision is ill-defined and being set to 0.0 in samples with no predicted labels. Use `zero_division` parameter to control this behavior.\n",
      "  _warn_prf(average, modifier, msg_start, len(result))\n"
     ]
    },
    {
     "name": "stdout",
     "output_type": "stream",
     "text": [
      "text_only\tEpoch 034\n"
     ]
    },
    {
     "name": "stderr",
     "output_type": "stream",
     "text": [
      "100%|██████████| 121/121 [00:00<00:00, 176.56it/s]\n",
      "/home/marta/miniconda3/envs/sbnet/lib/python3.6/site-packages/sklearn/metrics/_classification.py:1248: UndefinedMetricWarning: Precision is ill-defined and being set to 0.0 in samples with no predicted labels. Use `zero_division` parameter to control this behavior.\n",
      "  _warn_prf(average, modifier, msg_start, len(result))\n"
     ]
    },
    {
     "name": "stdout",
     "output_type": "stream",
     "text": [
      "text_only\tEpoch 035\n"
     ]
    },
    {
     "name": "stderr",
     "output_type": "stream",
     "text": [
      "100%|██████████| 121/121 [00:00<00:00, 177.36it/s]\n",
      "/home/marta/miniconda3/envs/sbnet/lib/python3.6/site-packages/sklearn/metrics/_classification.py:1248: UndefinedMetricWarning: Precision is ill-defined and being set to 0.0 in samples with no predicted labels. Use `zero_division` parameter to control this behavior.\n",
      "  _warn_prf(average, modifier, msg_start, len(result))\n"
     ]
    },
    {
     "name": "stdout",
     "output_type": "stream",
     "text": [
      "text_only\tEpoch 036\n"
     ]
    },
    {
     "name": "stderr",
     "output_type": "stream",
     "text": [
      "100%|██████████| 121/121 [00:00<00:00, 177.80it/s]\n",
      "/home/marta/miniconda3/envs/sbnet/lib/python3.6/site-packages/sklearn/metrics/_classification.py:1248: UndefinedMetricWarning: Precision is ill-defined and being set to 0.0 in samples with no predicted labels. Use `zero_division` parameter to control this behavior.\n",
      "  _warn_prf(average, modifier, msg_start, len(result))\n"
     ]
    },
    {
     "name": "stdout",
     "output_type": "stream",
     "text": [
      "text_only\tEpoch 037\n"
     ]
    },
    {
     "name": "stderr",
     "output_type": "stream",
     "text": [
      "100%|██████████| 121/121 [00:00<00:00, 177.51it/s]\n",
      "/home/marta/miniconda3/envs/sbnet/lib/python3.6/site-packages/sklearn/metrics/_classification.py:1248: UndefinedMetricWarning: Precision is ill-defined and being set to 0.0 in samples with no predicted labels. Use `zero_division` parameter to control this behavior.\n",
      "  _warn_prf(average, modifier, msg_start, len(result))\n"
     ]
    },
    {
     "name": "stdout",
     "output_type": "stream",
     "text": [
      "text_only\tEpoch 038\n"
     ]
    },
    {
     "name": "stderr",
     "output_type": "stream",
     "text": [
      "100%|██████████| 121/121 [00:00<00:00, 176.38it/s]\n",
      "/home/marta/miniconda3/envs/sbnet/lib/python3.6/site-packages/sklearn/metrics/_classification.py:1248: UndefinedMetricWarning: Precision is ill-defined and being set to 0.0 in samples with no predicted labels. Use `zero_division` parameter to control this behavior.\n",
      "  _warn_prf(average, modifier, msg_start, len(result))\n"
     ]
    },
    {
     "name": "stdout",
     "output_type": "stream",
     "text": [
      "text_only\tEpoch 039\n"
     ]
    },
    {
     "name": "stderr",
     "output_type": "stream",
     "text": [
      "100%|██████████| 121/121 [00:00<00:00, 177.23it/s]\n",
      "/home/marta/miniconda3/envs/sbnet/lib/python3.6/site-packages/sklearn/metrics/_classification.py:1248: UndefinedMetricWarning: Precision is ill-defined and being set to 0.0 in samples with no predicted labels. Use `zero_division` parameter to control this behavior.\n",
      "  _warn_prf(average, modifier, msg_start, len(result))\n"
     ]
    },
    {
     "name": "stdout",
     "output_type": "stream",
     "text": [
      "text_only\tEpoch 040\n"
     ]
    },
    {
     "name": "stderr",
     "output_type": "stream",
     "text": [
      "100%|██████████| 121/121 [00:00<00:00, 177.76it/s]\n",
      "/home/marta/miniconda3/envs/sbnet/lib/python3.6/site-packages/sklearn/metrics/_classification.py:1248: UndefinedMetricWarning: Precision is ill-defined and being set to 0.0 in samples with no predicted labels. Use `zero_division` parameter to control this behavior.\n",
      "  _warn_prf(average, modifier, msg_start, len(result))\n"
     ]
    },
    {
     "name": "stdout",
     "output_type": "stream",
     "text": [
      "text_only\tEpoch 041\n"
     ]
    },
    {
     "name": "stderr",
     "output_type": "stream",
     "text": [
      "100%|██████████| 121/121 [00:00<00:00, 177.47it/s]\n",
      "/home/marta/miniconda3/envs/sbnet/lib/python3.6/site-packages/sklearn/metrics/_classification.py:1248: UndefinedMetricWarning: Precision is ill-defined and being set to 0.0 in samples with no predicted labels. Use `zero_division` parameter to control this behavior.\n",
      "  _warn_prf(average, modifier, msg_start, len(result))\n"
     ]
    },
    {
     "name": "stdout",
     "output_type": "stream",
     "text": [
      "text_only\tEpoch 042\n"
     ]
    },
    {
     "name": "stderr",
     "output_type": "stream",
     "text": [
      "100%|██████████| 121/121 [00:00<00:00, 177.50it/s]\n",
      "/home/marta/miniconda3/envs/sbnet/lib/python3.6/site-packages/sklearn/metrics/_classification.py:1248: UndefinedMetricWarning: Precision is ill-defined and being set to 0.0 in samples with no predicted labels. Use `zero_division` parameter to control this behavior.\n",
      "  _warn_prf(average, modifier, msg_start, len(result))\n"
     ]
    },
    {
     "name": "stdout",
     "output_type": "stream",
     "text": [
      "text_only\tEpoch 043\n"
     ]
    },
    {
     "name": "stderr",
     "output_type": "stream",
     "text": [
      "100%|██████████| 121/121 [00:00<00:00, 170.91it/s]\n",
      "/home/marta/miniconda3/envs/sbnet/lib/python3.6/site-packages/sklearn/metrics/_classification.py:1248: UndefinedMetricWarning: Precision is ill-defined and being set to 0.0 in samples with no predicted labels. Use `zero_division` parameter to control this behavior.\n",
      "  _warn_prf(average, modifier, msg_start, len(result))\n"
     ]
    },
    {
     "name": "stdout",
     "output_type": "stream",
     "text": [
      "text_only\tEpoch 044\n"
     ]
    },
    {
     "name": "stderr",
     "output_type": "stream",
     "text": [
      "100%|██████████| 121/121 [00:00<00:00, 167.28it/s]\n",
      "/home/marta/miniconda3/envs/sbnet/lib/python3.6/site-packages/sklearn/metrics/_classification.py:1248: UndefinedMetricWarning: Precision is ill-defined and being set to 0.0 in samples with no predicted labels. Use `zero_division` parameter to control this behavior.\n",
      "  _warn_prf(average, modifier, msg_start, len(result))\n"
     ]
    },
    {
     "name": "stdout",
     "output_type": "stream",
     "text": [
      "text_only\tEpoch 045\n"
     ]
    },
    {
     "name": "stderr",
     "output_type": "stream",
     "text": [
      "100%|██████████| 121/121 [00:00<00:00, 167.18it/s]\n",
      "/home/marta/miniconda3/envs/sbnet/lib/python3.6/site-packages/sklearn/metrics/_classification.py:1248: UndefinedMetricWarning: Precision is ill-defined and being set to 0.0 in samples with no predicted labels. Use `zero_division` parameter to control this behavior.\n",
      "  _warn_prf(average, modifier, msg_start, len(result))\n"
     ]
    },
    {
     "name": "stdout",
     "output_type": "stream",
     "text": [
      "text_only\tEpoch 046\n"
     ]
    },
    {
     "name": "stderr",
     "output_type": "stream",
     "text": [
      "100%|██████████| 121/121 [00:00<00:00, 168.43it/s]\n",
      "/home/marta/miniconda3/envs/sbnet/lib/python3.6/site-packages/sklearn/metrics/_classification.py:1248: UndefinedMetricWarning: Precision is ill-defined and being set to 0.0 in samples with no predicted labels. Use `zero_division` parameter to control this behavior.\n",
      "  _warn_prf(average, modifier, msg_start, len(result))\n"
     ]
    },
    {
     "name": "stdout",
     "output_type": "stream",
     "text": [
      "text_only\tEpoch 047\n"
     ]
    },
    {
     "name": "stderr",
     "output_type": "stream",
     "text": [
      "100%|██████████| 121/121 [00:00<00:00, 167.36it/s]\n",
      "/home/marta/miniconda3/envs/sbnet/lib/python3.6/site-packages/sklearn/metrics/_classification.py:1248: UndefinedMetricWarning: Precision is ill-defined and being set to 0.0 in samples with no predicted labels. Use `zero_division` parameter to control this behavior.\n",
      "  _warn_prf(average, modifier, msg_start, len(result))\n"
     ]
    },
    {
     "name": "stdout",
     "output_type": "stream",
     "text": [
      "text_only\tEpoch 048\n"
     ]
    },
    {
     "name": "stderr",
     "output_type": "stream",
     "text": [
      "100%|██████████| 121/121 [00:00<00:00, 171.30it/s]\n",
      "/home/marta/miniconda3/envs/sbnet/lib/python3.6/site-packages/sklearn/metrics/_classification.py:1248: UndefinedMetricWarning: Precision is ill-defined and being set to 0.0 in samples with no predicted labels. Use `zero_division` parameter to control this behavior.\n",
      "  _warn_prf(average, modifier, msg_start, len(result))\n"
     ]
    },
    {
     "name": "stdout",
     "output_type": "stream",
     "text": [
      "text_only\tEpoch 049\n"
     ]
    },
    {
     "name": "stderr",
     "output_type": "stream",
     "text": [
      "100%|██████████| 121/121 [00:00<00:00, 168.56it/s]\n",
      "/home/marta/miniconda3/envs/sbnet/lib/python3.6/site-packages/sklearn/metrics/_classification.py:1248: UndefinedMetricWarning: Precision is ill-defined and being set to 0.0 in samples with no predicted labels. Use `zero_division` parameter to control this behavior.\n",
      "  _warn_prf(average, modifier, msg_start, len(result))\n"
     ]
    }
   ],
   "source": [
    "losses, f1_scores = main(train_data, train_label)"
   ]
  },
  {
   "cell_type": "code",
   "execution_count": 12,
   "id": "83678eff1a9ad0fe",
   "metadata": {
    "ExecuteTime": {
     "end_time": "2024-07-27T16:22:53.607059Z",
     "start_time": "2024-07-27T16:22:53.606892Z"
    }
   },
   "outputs": [
    {
     "data": {
      "text/plain": [
       "[0.15691801057225999,\n",
       " 0.16405682962090354,\n",
       " 0.17214950707624227,\n",
       " 0.18123555800376498,\n",
       " 0.19225027918879578,\n",
       " 0.20661909933040204,\n",
       " 0.2207369106347575,\n",
       " 0.2394729340827755,\n",
       " 0.2571094634919182,\n",
       " 0.2746825076372105,\n",
       " 0.29494853384909026,\n",
       " 0.31466469598517843,\n",
       " 0.3343293424870677,\n",
       " 0.35348253939505175,\n",
       " 0.3732633460855245,\n",
       " 0.3891527391656015,\n",
       " 0.4006699060611124,\n",
       " 0.408959715010909,\n",
       " 0.41484384443832234,\n",
       " 0.41627148779861717,\n",
       " 0.41681249981235463,\n",
       " 0.41542989323748786,\n",
       " 0.4143413446231324,\n",
       " 0.4112070175410641,\n",
       " 0.411026342319433,\n",
       " 0.4111202671362296,\n",
       " 0.4116801652571162,\n",
       " 0.4049546277428443,\n",
       " 0.39761460618877514,\n",
       " 0.3974836257923948,\n",
       " 0.3941575553759086,\n",
       " 0.3954746988966205,\n",
       " 0.39528020478549947,\n",
       " 0.3970935901489517,\n",
       " 0.3943477327434382,\n",
       " 0.39556807379595615,\n",
       " 0.39702353893969317,\n",
       " 0.3961419254339033,\n",
       " 0.39209614462177717,\n",
       " 0.395811774062563,\n",
       " 0.3975265947772595,\n",
       " 0.3953977652485266,\n",
       " 0.39682659475327975,\n",
       " 0.3952832864265666,\n",
       " 0.39650383829872754,\n",
       " 0.39548361026665313,\n",
       " 0.39655664595581536,\n",
       " 0.39248640145148633,\n",
       " 0.39232693728739254]"
      ]
     },
     "execution_count": 12,
     "metadata": {},
     "output_type": "execute_result"
    }
   ],
   "source": [
    "f1_scores"
   ]
  },
  {
   "cell_type": "code",
   "execution_count": 13,
   "id": "e42da142",
   "metadata": {},
   "outputs": [
    {
     "data": {
      "text/plain": [
       "[0.7023756124756553,\n",
       " 0.7005342905186425,\n",
       " 0.6986562048108125,\n",
       " 0.6969740316887533,\n",
       " 0.6951755329597095,\n",
       " 0.6933920777533665,\n",
       " 0.6914833084610869,\n",
       " 0.6896045464129488,\n",
       " 0.6877075138170857,\n",
       " 0.6856644744715414,\n",
       " 0.6836010601894915,\n",
       " 0.6816685795783997,\n",
       " 0.6795509827038473,\n",
       " 0.6775820491727719,\n",
       " 0.6753952542612375,\n",
       " 0.6733921593870998,\n",
       " 0.6711812846916766,\n",
       " 0.6690961743189283,\n",
       " 0.6668398976325989,\n",
       " 0.6645250990371073,\n",
       " 0.6621303523867583,\n",
       " 0.6595995293175878,\n",
       " 0.6569820913401517,\n",
       " 0.6542356698966223,\n",
       " 0.6516561902259007,\n",
       " 0.6491360358955446,\n",
       " 0.6465171816920446,\n",
       " 0.6435278072830074,\n",
       " 0.6396529644974007,\n",
       " 0.6362831385667659,\n",
       " 0.6339390573422771,\n",
       " 0.6317996087153096,\n",
       " 0.6298891685225747,\n",
       " 0.627799480907188,\n",
       " 0.6258112310378019,\n",
       " 0.6239206584031917,\n",
       " 0.6220136378422256,\n",
       " 0.6202434276746325,\n",
       " 0.6182648982883485,\n",
       " 0.6163755724252749,\n",
       " 0.6145841454671435,\n",
       " 0.6126745165872179,\n",
       " 0.6109058743666026,\n",
       " 0.6090123958824095,\n",
       " 0.6073216263912926,\n",
       " 0.6054598733413318,\n",
       " 0.603766023620101,\n",
       " 0.6019405619172026,\n",
       " 0.6001737570959674]"
      ]
     },
     "execution_count": 13,
     "metadata": {},
     "output_type": "execute_result"
    }
   ],
   "source": [
    "losses"
   ]
  },
  {
   "cell_type": "code",
   "execution_count": 14,
   "id": "9633dd9f",
   "metadata": {},
   "outputs": [
    {
     "data": {
      "image/png": "[encoded data removed]",
      "text/plain": [
       "<Figure size 432x288 with 1 Axes>"
      ]
     },
     "metadata": {
      "needs_background": "light"
     },
     "output_type": "display_data"
    }
   ],
   "source": [
    "import matplotlib.pyplot as plt\n",
    "ar = np.arange(len(losses)) # just as an example array\n",
    "plt.plot(ar, losses, 'x')\n",
    "plt.show()"
   ]
  },
  {
   "cell_type": "code",
   "execution_count": 15,
   "id": "c3df211b",
   "metadata": {},
   "outputs": [
    {
     "data": {
      "image/png": "[encoded data removed]",
      "text/plain": [
       "<Figure size 432x288 with 1 Axes>"
      ]
     },
     "metadata": {
      "needs_background": "light"
     },
     "output_type": "display_data"
    }
   ],
   "source": [
    "import matplotlib.pyplot as plt\n",
    "ar = np.arange(len(losses)) # just as an example array\n",
    "plt.plot(ar, f1_scores, 'x')\n",
    "plt.show()"
   ]
  },
  {
   "cell_type": "code",
   "execution_count": null,
   "id": "08e895c9",
   "metadata": {},
   "outputs": [],
   "source": []
  }
 ],
 "metadata": {
  "kernelspec": {
   "display_name": "Python 3",
   "language": "python",
   "name": "python3"
  },
  "language_info": {
   "codemirror_mode": {
    "name": "ipython",
    "version": 3
   },
   "file_extension": ".py",
   "mimetype": "text/x-python",
   "name": "python",
   "nbconvert_exporter": "python",
   "pygments_lexer": "ipython3",
   "version": "3.6.10"
  }
 },
 "nbformat": 4,
 "nbformat_minor": 5
}
